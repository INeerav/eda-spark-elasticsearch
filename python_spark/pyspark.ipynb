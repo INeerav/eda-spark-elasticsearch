{
  "nbformat": 4,
  "nbformat_minor": 0,
  "metadata": {
    "colab": {
      "provenance": []
    },
    "kernelspec": {
      "name": "python3",
      "display_name": "Python 3"
    },
    "language_info": {
      "name": "python"
    }
  },
  "cells": [
    {
      "cell_type": "code",
      "execution_count": 1,
      "metadata": {
        "id": "QzVIqWJXbakh"
      },
      "outputs": [],
      "source": [
        "!apt-get install openjdk-8-jdk-headless -qq > /dev/null\n",
        "!wget -q http://archive.apache.org/dist/spark/spark-3.1.1/spark-3.1.1-bin-hadoop3.2.tgz\n",
        "!tar xf spark-3.1.1-bin-hadoop3.2.tgz\n",
        "!pip install -q findspark"
      ]
    },
    {
      "cell_type": "code",
      "source": [
        "import os\n",
        "os.environ[\"JAVA_HOME\"] = \"/usr/lib/jvm/java-8-openjdk-amd64\"\n",
        "os.environ[\"SPARK_HOME\"] = \"/content/spark-3.1.1-bin-hadoop3.2\""
      ],
      "metadata": {
        "id": "rMX_v7gVdcfM"
      },
      "execution_count": 2,
      "outputs": []
    },
    {
      "cell_type": "code",
      "source": [
        "!ls"
      ],
      "metadata": {
        "colab": {
          "base_uri": "https://localhost:8080/"
        },
        "id": "hQBbkZ8Ndh9H",
        "outputId": "391059cc-7b94-43ea-9f0a-94cf05bb67db"
      },
      "execution_count": 3,
      "outputs": [
        {
          "output_type": "stream",
          "name": "stdout",
          "text": [
            "artists.csv  sample_data  spark-3.1.1-bin-hadoop3.2  spark-3.1.1-bin-hadoop3.2.tgz\n"
          ]
        }
      ]
    },
    {
      "cell_type": "code",
      "source": [
        "import findspark\n",
        "findspark.init()\n",
        "from pyspark.sql import SparkSession\n",
        "spark = SparkSession.builder.master(\"local[*]\").getOrCreate()\n",
        "spark.conf.set(\"spark.sql.repl.eagerEval.enabled\", True) # Property used to format output tables better\n",
        "spark"
      ],
      "metadata": {
        "colab": {
          "base_uri": "https://localhost:8080/",
          "height": 219
        },
        "id": "UQiZlVATeHm8",
        "outputId": "0050be11-f92f-4b2f-e05f-030c90c50faf"
      },
      "execution_count": 4,
      "outputs": [
        {
          "output_type": "execute_result",
          "data": {
            "text/plain": [
              "<pyspark.sql.session.SparkSession at 0x7c6fb4015030>"
            ],
            "text/html": [
              "\n",
              "            <div>\n",
              "                <p><b>SparkSession - in-memory</b></p>\n",
              "                \n",
              "        <div>\n",
              "            <p><b>SparkContext</b></p>\n",
              "\n",
              "            <p><a href=\"http://a6e9981c7bfc:4040\">Spark UI</a></p>\n",
              "\n",
              "            <dl>\n",
              "              <dt>Version</dt>\n",
              "                <dd><code>v3.1.1</code></dd>\n",
              "              <dt>Master</dt>\n",
              "                <dd><code>local[*]</code></dd>\n",
              "              <dt>AppName</dt>\n",
              "                <dd><code>pyspark-shell</code></dd>\n",
              "            </dl>\n",
              "        </div>\n",
              "        \n",
              "            </div>\n",
              "        "
            ]
          },
          "metadata": {},
          "execution_count": 4
        }
      ]
    },
    {
      "cell_type": "code",
      "source": [
        "# Load data from csv to a dataframe.\n",
        "# header=True means the first row is a header\n",
        "# sep=';' means the column are seperated using ''\n",
        "df_artists = spark.read.csv('artists.csv', header=True, sep=\",\")\n",
        "df_artists.show(5)\n",
        "df_artists.count()"
      ],
      "metadata": {
        "colab": {
          "base_uri": "https://localhost:8080/"
        },
        "id": "zfOhUnR3eLS-",
        "outputId": "5111335d-b796-4a56-9458-2481aff0ca7b"
      },
      "execution_count": 7,
      "outputs": [
        {
          "output_type": "stream",
          "name": "stdout",
          "text": [
            "+--------------------+--------------------+--------------------+--------------+--------------------+--------------------+--------------------+----------------+----------------+----------------+\n",
            "|                mbid|           artist_mb|       artist_lastfm|    country_mb|      country_lastfm|             tags_mb|         tags_lastfm|listeners_lastfm|scrobbles_lastfm|ambiguous_artist|\n",
            "+--------------------+--------------------+--------------------+--------------+--------------------+--------------------+--------------------+----------------+----------------+----------------+\n",
            "|cc197bad-dc9c-440...|            Coldplay|            Coldplay|United Kingdom|      United Kingdom|rock; pop; altern...|rock; alternative...|         5381567|       360111850|           FALSE|\n",
            "|a74b1b7f-71a5-401...|           Radiohead|           Radiohead|United Kingdom|      United Kingdom|rock; electronic;...|alternative; alte...|         4732528|       499548797|           FALSE|\n",
            "|8bfac288-ccc5-448...|Red Hot Chili Pep...|Red Hot Chili Pep...| United States|       United States|rock; alternative...|rock; alternative...|         4620835|       293784041|           FALSE|\n",
            "|73e5e69d-3554-40d...|             Rihanna|             Rihanna| United States|Barbados; United ...|pop; dance; hip h...|pop; rnb; female ...|         4558193|       199248986|           FALSE|\n",
            "|b95ce3ff-3d05-4e8...|              Eminem|              Eminem| United States|       United States|turkish; rap; ame...|rap; Hip-Hop; Emi...|         4517997|       199507511|           FALSE|\n",
            "+--------------------+--------------------+--------------------+--------------+--------------------+--------------------+--------------------+----------------+----------------+----------------+\n",
            "only showing top 5 rows\n",
            "\n"
          ]
        },
        {
          "output_type": "execute_result",
          "data": {
            "text/plain": [
              "594907"
            ]
          },
          "metadata": {},
          "execution_count": 7
        }
      ]
    },
    {
      "cell_type": "code",
      "source": [
        "#df_artists.columns;\n",
        "df_artists.printSchema()"
      ],
      "metadata": {
        "colab": {
          "base_uri": "https://localhost:8080/"
        },
        "id": "JOg4DfMGO23t",
        "outputId": "36534193-3cea-4792-b2ff-40b07008a90a"
      },
      "execution_count": 9,
      "outputs": [
        {
          "output_type": "stream",
          "name": "stdout",
          "text": [
            "root\n",
            " |-- mbid: string (nullable = true)\n",
            " |-- artist_mb: string (nullable = true)\n",
            " |-- artist_lastfm: string (nullable = true)\n",
            " |-- country_mb: string (nullable = true)\n",
            " |-- country_lastfm: string (nullable = true)\n",
            " |-- tags_mb: string (nullable = true)\n",
            " |-- tags_lastfm: string (nullable = true)\n",
            " |-- listeners_lastfm: string (nullable = true)\n",
            " |-- scrobbles_lastfm: string (nullable = true)\n",
            " |-- ambiguous_artist: string (nullable = true)\n",
            "\n"
          ]
        }
      ]
    },
    {
      "cell_type": "code",
      "source": [
        "# cleaning and transforming\n",
        "# removing duplicate values first\n",
        "from pyspark.sql import SparkSession, Window\n",
        "from pyspark.sql.functions import isnan, when, count, col, lit, trim, avg, ceil\n",
        "from pyspark.sql.types import StringType\n",
        "import matplotlib.pyplot as plt\n",
        "import pandas as pd\n",
        "import seaborn as sns\n",
        "\n",
        "df_artists = df_artists.dropDuplicates(['mbid'])\n",
        "print(df_artists.count())"
      ],
      "metadata": {
        "colab": {
          "base_uri": "https://localhost:8080/"
        },
        "id": "VLsmWe68ZFGf",
        "outputId": "730a64f3-8a5f-4b25-dd06-fd3efce92a77"
      },
      "execution_count": 11,
      "outputs": [
        {
          "output_type": "stream",
          "name": "stdout",
          "text": [
            "594907\n"
          ]
        }
      ]
    },
    {
      "cell_type": "code",
      "source": [
        "# string cleaning and removing unwanted\n",
        "str_cols = [item[0] for item in df_artists.dtypes if item[1].startswith('string')]\n",
        "for cols in str_cols:\n",
        "  df_artists = df_artists.withColumn(cols, trim(df_artists[cols]))"
      ],
      "metadata": {
        "id": "E9M2rkpbZhzT"
      },
      "execution_count": 12,
      "outputs": []
    },
    {
      "cell_type": "code",
      "source": [
        "# lowercasing the columns and put the underscore\n",
        "\n",
        "# create the temp view table for the sql operations\n",
        "df_artists.createOrReplaceTempView(\"artisttbl\")"
      ],
      "metadata": {
        "id": "Y1PClJdOfoQE"
      },
      "execution_count": 13,
      "outputs": []
    },
    {
      "cell_type": "code",
      "source": [
        "# to understand the data\n",
        "# define the categories\n",
        "# 1. artist_mb\n",
        "# 2. artist_lastfm\n",
        "# 3. artist_lastf\n",
        "# 4. country_mb\n",
        "# 5. country_lastfm\n",
        "# 6. tags_mb\n",
        "# 7. ambiguous_artist bool check True or false\n",
        "\n",
        "# * indicator_code : to represent the valuation indicator code unit name\n",
        "\n",
        "query_country_counts = '''select row_number() over (order by country_mb asc) rn, country_mb country, count(*) count\n",
        "from artisttbl art\n",
        "where art.country_mb is not null\n",
        "group by country_mb having count(*) > 1'''\n",
        "\n",
        "query_artist_counts = '''select row_number() over (order by artist_mb asc) rn, country_mb country, artist_mb artist, count(*) count\n",
        "from artisttbl art\n",
        "where art.artist_mb is not null and art.country_mb is not null\n",
        "group by artist_mb,country_mb having count(*) > 1'''\n",
        "\n",
        "query_clean_known_artists = '''select * from artisttbl art where\n",
        "ambiguous_artist = FALSE\n",
        "and tags_mb is not null\n",
        "and tags_lastfm is not null\n",
        "and country_mb is not null\n",
        "and country_lastfm is not null\n",
        " '''\n",
        "clean_all_artists = '''select * from artisttbl art where\n",
        " tags_mb is not null\n",
        "and tags_lastfm is not null\n",
        "and country_mb is not null\n",
        "and country_lastfm is not null\n",
        " '''\n",
        "# 36898\n",
        "# df_known_artists = spark.sql(clean_all_artists)\n",
        "df_all_artists = spark.sql(clean_all_artists)\n",
        "df_all_artists.count()"
      ],
      "metadata": {
        "id": "arOUzuUY-4Fz",
        "colab": {
          "base_uri": "https://localhost:8080/"
        },
        "outputId": "7a8435a4-56d1-4b88-90b3-87c0b64aa4d5"
      },
      "execution_count": 14,
      "outputs": [
        {
          "output_type": "execute_result",
          "data": {
            "text/plain": [
              "40029"
            ]
          },
          "metadata": {},
          "execution_count": 14
        }
      ]
    },
    {
      "cell_type": "code",
      "source": [
        "df_all = df_all_artists.toPandas()\n",
        "df_all.to_csv('all_artists.csv', index = False, encoding='utf-8')"
      ],
      "metadata": {
        "id": "TSvDGL7IUFxo"
      },
      "execution_count": 32,
      "outputs": []
    },
    {
      "cell_type": "code",
      "source": [
        "df_known_artists = df_known_artists.toPandas()\n",
        "df_all.to_csv('known_artists.csv', index = False, encoding='utf-8')"
      ],
      "metadata": {
        "id": "Xrsdpc_fbWNk"
      },
      "execution_count": null,
      "outputs": []
    },
    {
      "cell_type": "code",
      "source": [
        "df_all_artists"
      ],
      "metadata": {
        "colab": {
          "base_uri": "https://localhost:8080/",
          "height": 858
        },
        "id": "R_4Lj3bkgiHb",
        "outputId": "84db1a98-24f7-4357-f590-a61d9af341f3"
      },
      "execution_count": 15,
      "outputs": [
        {
          "output_type": "execute_result",
          "data": {
            "text/plain": [
              "+--------------------+--------------------+--------------------+--------------+--------------------+--------------------+--------------------+----------------+----------------+----------------+\n",
              "|                mbid|           artist_mb|       artist_lastfm|    country_mb|      country_lastfm|             tags_mb|         tags_lastfm|listeners_lastfm|scrobbles_lastfm|ambiguous_artist|\n",
              "+--------------------+--------------------+--------------------+--------------+--------------------+--------------------+--------------------+----------------+----------------+----------------+\n",
              "|0008af7d-2aa1-4b4...|        Miklós Rózsa|        Miklós Rózsa|       Hungary|             Hungary|soundtrack; class...|Soundtrack; Class...|           34430|          363238|           FALSE|\n",
              "|01094f22-a9d8-48f...|The Druids of Sto...|The Druids Of Sto...| United States|       United States|psychedelic rock;...|Garage Rock; Psyc...|            2009|           17987|           FALSE|\n",
              "|01e1aae4-5148-402...|             Avanti!|             Avanti!|       Finland|             Finland|classical; chambe...|seen live; skweee...|             841|            4623|           FALSE|\n",
              "|02e5d1fe-db84-450...|           Seun Kuti|           Seun Kuti|       Nigeria|     Nigeria; Poland|world; african; a...|afrobeat; seen li...|           25713|          119345|           FALSE|\n",
              "|02fc3032-e491-46b...|     Old Man’s Child|     Old Man's Child|        Norway|              Norway|           norwegian|black metal; melo...|          132320|         3575801|           FALSE|\n",
              "|05ab8680-38d8-449...|            柏木広樹|            柏木広樹|         Japan|               Japan|        likedis auto|cello; Smooth Jaz...|             249|           21838|           FALSE|\n",
              "|05b82580-9121-4d9...|       Russell Mills|       Russell Mills|United Kingdom|      United Kingdom|ambient; british;...|ambient; electron...|            3073|           18955|           FALSE|\n",
              "|080157d9-fe06-43e...|             Adamski|             Adamski|United Kingdom|      United Kingdom|house; british; u...|electronic; dance...|          111268|          467948|           FALSE|\n",
              "|0a77bec1-12ef-4ca...|                Bent|                Bent|United Kingdom|      United Kingdom|dance and electro...|chillout; electro...|          562269|         6502551|           FALSE|\n",
              "|0be75788-c49b-474...|      Projected Twin|      Projected Twin|     Australia|           Australia|progressive rock;...|Progressive rock;...|            1684|           37261|           FALSE|\n",
              "|0d4bc6e5-2a3e-4fd...|                Lamb|                Lamb|United Kingdom|      United Kingdom|electronic; drum ...|trip-hop; electro...|         1083420|        21489003|           FALSE|\n",
              "|0eb601e6-6c30-4e6...|        Chris Watson|        Chris Watson|United Kingdom|      United Kingdom|british; uk; engi...|Field Recording; ...|           26412|          287652|           FALSE|\n",
              "|1026d10c-3dec-478...|             Sinaloa|             Sinaloa| United States|       United States|             screamo|screamo; emo; pos...|           16790|          417271|           FALSE|\n",
              "|104665df-8660-42d...|              野狐禅|              野狐禅|         Japan|               Japan|        likedis auto|folk; japanese; j...|            1443|           94504|           FALSE|\n",
              "|1048f9ad-2955-45d...|           Archontes|           Archontes|        Russia|              Russia| melodic power metal|Power metal; russ...|            2252|           40336|           FALSE|\n",
              "|16f68ff7-6f2f-48e...|                Said|                Said|       Germany|        Italy; Japan|             hip hop|rock; japanese; a...|            5363|           74958|            TRUE|\n",
              "|172e980e-ba97-4ad...|                  KK|                  KK|         India|Iceland; India; I...|     playback singer|Hindi; Indian; bo...|           38424|          294303|            TRUE|\n",
              "|18037a87-4a4c-494...|            Lowrider|            Lowrider|        Sweden|   Australia; Sweden|rock; stoner rock...|Stoner Rock; dese...|           40637|          441633|            TRUE|\n",
              "|1bbb60c9-6b1b-4bb...|      Pizzicato Five|      Pizzicato Five|         Japan|               Japan|electronic; dance...|japanese; shibuya...|          138032|         3933877|           FALSE|\n",
              "|1cc7ebc1-8ea6-43f...|              Windir|              Windir|        Norway|              Norway|norwegian; black ...|black metal; viki...|           79678|         5073442|           FALSE|\n",
              "+--------------------+--------------------+--------------------+--------------+--------------------+--------------------+--------------------+----------------+----------------+----------------+\n",
              "only showing top 20 rows"
            ],
            "text/html": [
              "<table border='1'>\n",
              "<tr><th>mbid</th><th>artist_mb</th><th>artist_lastfm</th><th>country_mb</th><th>country_lastfm</th><th>tags_mb</th><th>tags_lastfm</th><th>listeners_lastfm</th><th>scrobbles_lastfm</th><th>ambiguous_artist</th></tr>\n",
              "<tr><td>0008af7d-2aa1-4b4...</td><td>Miklós Rózsa</td><td>Miklós Rózsa</td><td>Hungary</td><td>Hungary</td><td>soundtrack; class...</td><td>Soundtrack; Class...</td><td>34430</td><td>363238</td><td>FALSE</td></tr>\n",
              "<tr><td>01094f22-a9d8-48f...</td><td>The Druids of Sto...</td><td>The Druids Of Sto...</td><td>United States</td><td>United States</td><td>psychedelic rock;...</td><td>Garage Rock; Psyc...</td><td>2009</td><td>17987</td><td>FALSE</td></tr>\n",
              "<tr><td>01e1aae4-5148-402...</td><td>Avanti!</td><td>Avanti!</td><td>Finland</td><td>Finland</td><td>classical; chambe...</td><td>seen live; skweee...</td><td>841</td><td>4623</td><td>FALSE</td></tr>\n",
              "<tr><td>02e5d1fe-db84-450...</td><td>Seun Kuti</td><td>Seun Kuti</td><td>Nigeria</td><td>Nigeria; Poland</td><td>world; african; a...</td><td>afrobeat; seen li...</td><td>25713</td><td>119345</td><td>FALSE</td></tr>\n",
              "<tr><td>02fc3032-e491-46b...</td><td>Old Man’s Child</td><td>Old Man&#x27;s Child</td><td>Norway</td><td>Norway</td><td>norwegian</td><td>black metal; melo...</td><td>132320</td><td>3575801</td><td>FALSE</td></tr>\n",
              "<tr><td>05ab8680-38d8-449...</td><td>柏木広樹</td><td>柏木広樹</td><td>Japan</td><td>Japan</td><td>likedis auto</td><td>cello; Smooth Jaz...</td><td>249</td><td>21838</td><td>FALSE</td></tr>\n",
              "<tr><td>05b82580-9121-4d9...</td><td>Russell Mills</td><td>Russell Mills</td><td>United Kingdom</td><td>United Kingdom</td><td>ambient; british;...</td><td>ambient; electron...</td><td>3073</td><td>18955</td><td>FALSE</td></tr>\n",
              "<tr><td>080157d9-fe06-43e...</td><td>Adamski</td><td>Adamski</td><td>United Kingdom</td><td>United Kingdom</td><td>house; british; u...</td><td>electronic; dance...</td><td>111268</td><td>467948</td><td>FALSE</td></tr>\n",
              "<tr><td>0a77bec1-12ef-4ca...</td><td>Bent</td><td>Bent</td><td>United Kingdom</td><td>United Kingdom</td><td>dance and electro...</td><td>chillout; electro...</td><td>562269</td><td>6502551</td><td>FALSE</td></tr>\n",
              "<tr><td>0be75788-c49b-474...</td><td>Projected Twin</td><td>Projected Twin</td><td>Australia</td><td>Australia</td><td>progressive rock;...</td><td>Progressive rock;...</td><td>1684</td><td>37261</td><td>FALSE</td></tr>\n",
              "<tr><td>0d4bc6e5-2a3e-4fd...</td><td>Lamb</td><td>Lamb</td><td>United Kingdom</td><td>United Kingdom</td><td>electronic; drum ...</td><td>trip-hop; electro...</td><td>1083420</td><td>21489003</td><td>FALSE</td></tr>\n",
              "<tr><td>0eb601e6-6c30-4e6...</td><td>Chris Watson</td><td>Chris Watson</td><td>United Kingdom</td><td>United Kingdom</td><td>british; uk; engi...</td><td>Field Recording; ...</td><td>26412</td><td>287652</td><td>FALSE</td></tr>\n",
              "<tr><td>1026d10c-3dec-478...</td><td>Sinaloa</td><td>Sinaloa</td><td>United States</td><td>United States</td><td>screamo</td><td>screamo; emo; pos...</td><td>16790</td><td>417271</td><td>FALSE</td></tr>\n",
              "<tr><td>104665df-8660-42d...</td><td>野狐禅</td><td>野狐禅</td><td>Japan</td><td>Japan</td><td>likedis auto</td><td>folk; japanese; j...</td><td>1443</td><td>94504</td><td>FALSE</td></tr>\n",
              "<tr><td>1048f9ad-2955-45d...</td><td>Archontes</td><td>Archontes</td><td>Russia</td><td>Russia</td><td>melodic power metal</td><td>Power metal; russ...</td><td>2252</td><td>40336</td><td>FALSE</td></tr>\n",
              "<tr><td>16f68ff7-6f2f-48e...</td><td>Said</td><td>Said</td><td>Germany</td><td>Italy; Japan</td><td>hip hop</td><td>rock; japanese; a...</td><td>5363</td><td>74958</td><td>TRUE</td></tr>\n",
              "<tr><td>172e980e-ba97-4ad...</td><td>KK</td><td>KK</td><td>India</td><td>Iceland; India; I...</td><td>playback singer</td><td>Hindi; Indian; bo...</td><td>38424</td><td>294303</td><td>TRUE</td></tr>\n",
              "<tr><td>18037a87-4a4c-494...</td><td>Lowrider</td><td>Lowrider</td><td>Sweden</td><td>Australia; Sweden</td><td>rock; stoner rock...</td><td>Stoner Rock; dese...</td><td>40637</td><td>441633</td><td>TRUE</td></tr>\n",
              "<tr><td>1bbb60c9-6b1b-4bb...</td><td>Pizzicato Five</td><td>Pizzicato Five</td><td>Japan</td><td>Japan</td><td>electronic; dance...</td><td>japanese; shibuya...</td><td>138032</td><td>3933877</td><td>FALSE</td></tr>\n",
              "<tr><td>1cc7ebc1-8ea6-43f...</td><td>Windir</td><td>Windir</td><td>Norway</td><td>Norway</td><td>norwegian; black ...</td><td>black metal; viki...</td><td>79678</td><td>5073442</td><td>FALSE</td></tr>\n",
              "</table>\n",
              "only showing top 20 rows\n"
            ]
          },
          "metadata": {},
          "execution_count": 15
        }
      ]
    },
    {
      "cell_type": "code",
      "source": [
        "# transform RDDs"
      ],
      "metadata": {
        "id": "fw6aKZBMO824"
      },
      "execution_count": null,
      "outputs": []
    }
  ]
}